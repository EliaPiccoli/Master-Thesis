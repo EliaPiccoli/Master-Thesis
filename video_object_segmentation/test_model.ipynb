{
 "cells": [
  {
   "cell_type": "code",
   "execution_count": null,
   "metadata": {},
   "outputs": [],
   "source": [
    "import numpy as np\n",
    "np.random.seed(22)\n",
    "import torch\n",
    "import torch.nn.functional as F\n",
    "import matplotlib.pyplot as plt\n",
    "from model import VideoObjectSegmentationModel\n",
    "from dataset import Dataset"
   ]
  },
  {
   "cell_type": "code",
   "execution_count": null,
   "metadata": {},
   "outputs": [],
   "source": [
    "# VOS-v4\n",
    "models_path = {\n",
    "    \"pong#1\"    : \"wandb/run-20220707_191800-124hx1ez/files/PongNoFrameskip-v4.pt\",\n",
    "    \"pongf#1\"   : \"wandb/run-20220707_191800-124hx1ez/files/PongNoFrameskip-v4_final.pt\",\n",
    "    \n",
    "    \"pong#2\"    : \"wandb/run-20220707_191809-s28zyjxj/files/PongNoFrameskip-v4.pt\",\n",
    "    \"pongf#2\"   : \"wandb/run-20220707_191809-s28zyjxj/files/PongNoFrameskip-v4_final.pt\",\n",
    "    \n",
    "    \"pong#3\"    : \"wandb/run-20220707_192109-3jov8jat/files/PongNoFrameskip-v4.pt\",\n",
    "    \"pongf#3\"   : \"wandb/run-20220707_192109-3jov8jat/files/PongNoFrameskip-v4_final.pt\",\n",
    "}"
   ]
  },
  {
   "cell_type": "code",
   "execution_count": null,
   "metadata": {},
   "outputs": [],
   "source": [
    "env = \"PongNoFrameskip-v4\" # \"MsPacmanNoFrameskip-v4\"\n",
    "batch_size = 64\n",
    "H = W = 84\n",
    "num_frames = 2\n",
    "model_path = models_path[\"pong#1\"]\n",
    "model = VideoObjectSegmentationModel(\"cpu\")\n",
    "model.load_state_dict(torch.load(model_path, map_location=\"cpu\"))\n",
    "model.eval();"
   ]
  },
  {
   "cell_type": "code",
   "execution_count": null,
   "metadata": {},
   "outputs": [],
   "source": [
    "dataset = Dataset(env, 16, num_frames, H, W)\n",
    "inp = dataset.get_batch(\"train\")\n",
    "x0_ = model(inp)\n",
    "x0 = torch.unsqueeze(inp[:, 0, :, :], 1)\n",
    "x1 = torch.unsqueeze(inp[:, 1, :, :], 1)\n",
    "loss = model.compute_loss(x0, x0_)\n",
    "# print(loss)\n",
    "# print(x0)\n",
    "# print(x0_)"
   ]
  },
  {
   "cell_type": "code",
   "execution_count": null,
   "metadata": {},
   "outputs": [],
   "source": [
    "fig, ax = plt.subplots(1, 3, figsize=(12, 4))\n",
    "idx = 14\n",
    "ax[0].imshow(x0[idx].permute([1, 2, 0]).detach().numpy(), cmap='gray')\n",
    "ax[1].imshow(x1[idx].permute([1, 2, 0]).detach().numpy(), cmap='gray')\n",
    "ax[2].imshow(x0_[idx].permute([1, 2, 0]).detach().numpy(), cmap='gray')"
   ]
  },
  {
   "cell_type": "code",
   "execution_count": null,
   "metadata": {},
   "outputs": [],
   "source": [
    "num_f = 5\n",
    "masks = model.object_masks\n",
    "fig, ax = plt.subplots(1, num_f, figsize=(25, 15))\n",
    "for i in range(num_f):\n",
    "    ax[i].imshow(masks[idx, i, :].detach().numpy(), cmap='gray')"
   ]
  },
  {
   "cell_type": "code",
   "execution_count": null,
   "metadata": {},
   "outputs": [],
   "source": [
    "x = torch.zeros(84, 84)\n",
    "for i in range(model.K):\n",
    "    x = x + model.object_masks[idx, i, :].detach().numpy()\n",
    "plt.imshow(x, cmap='gray')"
   ]
  }
 ],
 "metadata": {
  "kernelspec": {
   "display_name": "Python 3.6.8 ('th-env': venv)",
   "language": "python",
   "name": "python3"
  },
  "language_info": {
   "codemirror_mode": {
    "name": "ipython",
    "version": 3
   },
   "file_extension": ".py",
   "mimetype": "text/x-python",
   "name": "python",
   "nbconvert_exporter": "python",
   "pygments_lexer": "ipython3",
   "version": "3.6.8"
  },
  "orig_nbformat": 4,
  "vscode": {
   "interpreter": {
    "hash": "1e8cfc6edd585dee6061b55cd76e5fd743beadb2c9a2d40a24956b117b0540aa"
   }
  }
 },
 "nbformat": 4,
 "nbformat_minor": 2
}
