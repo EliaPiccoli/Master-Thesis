{
 "cells": [
  {
   "cell_type": "code",
   "execution_count": 10,
   "metadata": {},
   "outputs": [],
   "source": [
    "import torch\n",
    "import matplotlib.pyplot as plt\n",
    "import numpy as np\n",
    "from models import *"
   ]
  },
  {
   "cell_type": "code",
   "execution_count": 11,
   "metadata": {},
   "outputs": [],
   "source": [
    "batch_size = 32\n",
    "image_channels = 3\n",
    "k = 4\n",
    "ENV = \"PongNoFrameskip-v4\" # \"MsPacmanNoFrameskip-v4\"\n",
    "data_path = f\"data/{ENV}\"\n",
    "\n",
    "encoder = Encoder(image_channels)\n",
    "key_net = KeyNet(image_channels, k)\n",
    "refine_net = RefineNet(image_channels)\n",
    "\n",
    "model = Transporter(encoder, key_net, refine_net)\n",
    "model_path = f\"wandb/run-20220623_163543-34u2d8d0/files/PongNoFrameskip-v4.pt\"\n",
    "model.load_state_dict(torch.load(model_path, map_location='cpu'))\n",
    "model.eval(); #; suppress output"
   ]
  },
  {
   "cell_type": "code",
   "execution_count": 12,
   "metadata": {},
   "outputs": [],
   "source": [
    "from dataset import Dataset, Sampler\n",
    "from torchvision import transforms\n",
    "\n",
    "transform = transforms.ToTensor()\n",
    "dataset = Dataset(data_path, transform=transform)\n",
    "sampler = Sampler(dataset)\n",
    "loader = torch.utils.data.DataLoader(dataset, batch_size=16, sampler=sampler)\n",
    "\n",
    "model.eval()\n",
    "for xt, xtp1 in loader:\n",
    "    break\n",
    "    \n",
    "target_keypoints = model.key_net(xtp1)\n",
    "reconstruction = model(xt, xtp1)"
   ]
  },
  {
   "cell_type": "code",
   "execution_count": 13,
   "metadata": {},
   "outputs": [
    {
     "data": {
      "image/png": "[encoded data removed]",
      "text/plain": [
       "<Figure size 864x288 with 5 Axes>"
      ]
     },
     "metadata": {
      "needs_background": "light"
     },
     "output_type": "display_data"
    }
   ],
   "source": [
    "from matplotlib.patches import Circle\n",
    "from utils import get_n_colors\n",
    "\n",
    "fig, ax = plt.subplots(1, 5, figsize=(12, 4))\n",
    "idx = 9\n",
    "k_idx = 1\n",
    "std = 0.1\n",
    "\n",
    "feature_maps = spatial_softmax(target_keypoints)\n",
    "gmap = gaussian_map(feature_maps, std)[idx, k_idx]\n",
    "\n",
    "ax[0].imshow(xt[idx].permute([1, 2, 0]).detach().numpy(), cmap='gray')\n",
    "ax[1].imshow(xtp1[idx].permute([1, 2, 0]).detach().numpy())\n",
    "ax[2].imshow(reconstruction[idx].permute([1, 2, 0]).detach().numpy())\n",
    "ax[3].imshow(gmap.detach().numpy(), cmap='gray', vmin=0, vmax=1)\n",
    "ax[4].imshow(feature_maps[idx, k_idx].detach().numpy(), cmap='gray')\n",
    "\n",
    "locs = compute_keypoint_location_mean(\n",
    "    spatial_softmax(model.key_net(xtp1)))[idx]\n",
    "\n",
    "colors = get_n_colors(len(locs))\n",
    "for i, l in enumerate((locs + 1) / 2 * 80):\n",
    "    ax[1].add_patch(Circle((l[1].item(), l[0].item()), 2, \n",
    "                           color=colors[i], alpha=0.5))"
   ]
  },
  {
   "cell_type": "code",
   "execution_count": 14,
   "metadata": {},
   "outputs": [],
   "source": [
    "from PIL import Image, ImageDraw\n",
    "\n",
    "def get_keypoints(model, source_images):\n",
    "    return compute_keypoint_location_mean(\n",
    "        spatial_softmax(model.key_net(source_images)))\n",
    "\n",
    "def annotate_keypoints(img, kp_t, colors):\n",
    "    draw = ImageDraw.Draw(img)\n",
    "\n",
    "    for i, kp in enumerate(unnormalize_kp(kp_t, image_width)):\n",
    "        y = kp.detach().numpy()[0]\n",
    "        x = kp.detach().numpy()[1]\n",
    "        r = 2\n",
    "        draw.ellipse((x-r, y-r, x+r, y+r), tuple(colors[i]))\n",
    "    \n",
    "    return img\n",
    "\n",
    "def unnormalize_kp(kp, img_width):\n",
    "    return (kp + 1) / 2 * img_width\n",
    "\n",
    "traj = torch.stack(dataset.get_trajectory(0))\n",
    "keypoints = get_keypoints(model, traj)\n",
    "image_width = traj.size(-1)"
   ]
  },
  {
   "cell_type": "code",
   "execution_count": 15,
   "metadata": {},
   "outputs": [
    {
     "data": {
      "image/png": "[encoded data removed]",
      "text/plain": [
       "<Figure size 864x216 with 5 Axes>"
      ]
     },
     "metadata": {
      "needs_background": "light"
     },
     "output_type": "display_data"
    }
   ],
   "source": [
    "fig = plt.figure(figsize=(12, 3))\n",
    "\n",
    "colors = get_n_colors(k)\n",
    "colors = [(int(color[0] * 255), int(color[1]*255), int(color[2]*255), 255) for color in colors]\n",
    "for i, t in enumerate(range(0, 100, 20)):\n",
    "    frame_t = traj[t].permute([1, 2, 0])\n",
    "    kp_t = keypoints[t]\n",
    "    im = Image.fromarray((frame_t.detach().numpy() * 255).astype('uint8'))\n",
    "    annotate_keypoints(im, kp_t, colors)\n",
    "    im = np.array(im)\n",
    "    ax = fig.add_subplot(1, 5, i + 1)\n",
    "    ax.imshow(im)\n",
    "    ax.set_axis_off()\n",
    "    ax.set_title('t = {}'.format(t))"
   ]
  },
  {
   "cell_type": "code",
   "execution_count": 16,
   "metadata": {},
   "outputs": [],
   "source": [
    "from PIL import Image, ImageDraw\n",
    "\n",
    "traj = torch.stack(dataset.get_trajectory(0))\n",
    "keypoints = get_keypoints(model, traj)\n",
    "image_width = traj.size(-1)\n",
    "\n",
    "def get_heatmaps(model, source_images, normalize=True):\n",
    "    if normalize:\n",
    "        return spatial_softmax(model.key_net(source_images))\n",
    "    return model.key_net(source_images)"
   ]
  },
  {
   "cell_type": "code",
   "execution_count": 17,
   "metadata": {},
   "outputs": [
    {
     "data": {
      "image/png": "[encoded data removed]",
      "text/plain": [
       "<Figure size 864x216 with 5 Axes>"
      ]
     },
     "metadata": {
      "needs_background": "light"
     },
     "output_type": "display_data"
    }
   ],
   "source": [
    "fig, ax = plt.subplots(1, k+1, figsize=(12, 3))\n",
    "\n",
    "idx = 20\n",
    "\n",
    "ax[0].imshow(traj[idx].permute([1, 2, 0]).detach().numpy())\n",
    "ax[0].set_axis_off()\n",
    "\n",
    "hm = get_heatmaps(model, traj, normalize=False)[idx].detach().numpy()\n",
    "\n",
    "for i, m in enumerate(hm):\n",
    "    ax[i+1].imshow(m, cmap='gray')\n",
    "    ax[i+1].set_axis_off()"
   ]
  },
  {
   "cell_type": "code",
   "execution_count": 18,
   "metadata": {},
   "outputs": [
    {
     "data": {
      "image/png": "[encoded data removed]",
      "text/plain": [
       "<Figure size 864x216 with 5 Axes>"
      ]
     },
     "metadata": {
      "needs_background": "light"
     },
     "output_type": "display_data"
    }
   ],
   "source": [
    "fig, ax = plt.subplots(1, k+1, figsize=(12, 3))\n",
    "\n",
    "idx = 20\n",
    "\n",
    "ax[0].imshow(traj[idx].permute([1, 2, 0]).detach().numpy())\n",
    "ax[0].set_axis_off()\n",
    "\n",
    "\n",
    "hm = get_heatmaps(model, traj, normalize=True)[idx].detach().numpy()\n",
    "\n",
    "for i, m in enumerate(hm):\n",
    "    ax[i+1].imshow(m, cmap='gray')\n",
    "    ax[i+1].set_axis_off()"
   ]
  }
 ],
 "metadata": {
  "kernelspec": {
   "display_name": "Python 3.6.8 ('th-env': venv)",
   "language": "python",
   "name": "python3"
  },
  "language_info": {
   "codemirror_mode": {
    "name": "ipython",
    "version": 3
   },
   "file_extension": ".py",
   "mimetype": "text/x-python",
   "name": "python",
   "nbconvert_exporter": "python",
   "pygments_lexer": "ipython3",
   "version": "3.6.8"
  },
  "orig_nbformat": 4,
  "vscode": {
   "interpreter": {
    "hash": "1e8cfc6edd585dee6061b55cd76e5fd743beadb2c9a2d40a24956b117b0540aa"
   }
  }
 },
 "nbformat": 4,
 "nbformat_minor": 2
}
